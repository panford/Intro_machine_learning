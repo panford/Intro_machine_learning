{
 "cells": [
  {
   "cell_type": "markdown",
   "metadata": {},
   "source": [
    "## Probability Distributions"
   ]
  },
  {
   "cell_type": "code",
   "execution_count": 30,
   "metadata": {},
   "outputs": [],
   "source": [
    "import matplotlib.pyplot as plt\n",
    "import numpy as np\n",
    "from scipy.stats import norm\n",
    "from math import factorial as f"
   ]
  },
  {
   "cell_type": "markdown",
   "metadata": {},
   "source": [
    "### Uniform Distribution  $X \\sim{U}(a,b)$"
   ]
  },
  {
   "cell_type": "markdown",
   "metadata": {},
   "source": [
    "The uniform distribution is a continuous distribution.\n",
    "Given an interval [a,b], All points are equally likely to be chosen. ie. probability density function referred to as the \"Uniform density on [a,b]\" is the same everywhere within the interval and X is the uniform random variable."
   ]
  },
  {
   "cell_type": "markdown",
   "metadata": {},
   "source": [
    "PDF \n",
    "\\begin{align}\n",
    "(f_X(x)) = \\frac{1}{b-a} : a < x < b\n",
    "\\end{align}"
   ]
  },
  {
   "cell_type": "markdown",
   "metadata": {},
   "source": [
    "\\begin{equation}\n",
    "  X = \\left \\{\n",
    "  \\begin{aligned}\n",
    "    &\\frac{1}{b-a}, && a < x < b \\\\\n",
    "    &0, && \\text{otherwise}\n",
    "  \\end{aligned} \\right.\n",
    "\\end{equation} "
   ]
  },
  {
   "cell_type": "markdown",
   "metadata": {},
   "source": [
    "#### Mean and Variance"
   ]
  },
  {
   "cell_type": "markdown",
   "metadata": {},
   "source": [
    "The mean of the uniform distribution is given by:\n",
    "\\begin{align}\n",
    "\\mathbf{E(X)} = \\frac{b+a}{2}\n",
    "\\end{align}\n",
    "Variance:\n",
    "\\begin{align}\n",
    "V(X) = \\frac{(b-a)^2}{12}\n",
    "\\end{align}"
   ]
  },
  {
   "cell_type": "code",
   "execution_count": 23,
   "metadata": {},
   "outputs": [
    {
     "data": {
      "image/png": "[encoded data removed]",
      "text/plain": [
       "<Figure size 432x288 with 1 Axes>"
      ]
     },
     "metadata": {
      "needs_background": "light"
     },
     "output_type": "display_data"
    }
   ],
   "source": [
    "s = np.random.uniform(-1,0,1000)\n",
    "count, bins, ignored = plt.hist(s, 15, density=True)\n",
    "plt.plot(bins, np.ones_like(bins), linewidth=2, color='r')\n",
    "plt.show()"
   ]
  },
  {
   "cell_type": "markdown",
   "metadata": {},
   "source": [
    "### Gaussian (Normal) Distribution"
   ]
  },
  {
   "cell_type": "markdown",
   "metadata": {},
   "source": [
    "This is a distribution of continuous variables specified by a mean ($\\mu$) and statndard deviation ($\\sigma$) / variance($\\sigma^2$).<br>\n",
    "This distribution has a bell-shaped curve and Probability density is higher when close to the mean<br>\n",
    "The Normal distribution may be written as: <br>\n",
    "\\begin{align}\n",
    "\\mathcal{N}(x|\\mu,\\sigma) = \\frac{1}{(2\\pi\\sigma^2)^{\\frac{1}{2}}}exp\\left \\{-\\frac{1}{2\\sigma^2}(x - \\mu)\\right\\}\n",
    "\\end{align}\n",
    "In most cases, the mean is referred to as the \"location\" or simply \"loc\" whereas the standard deviation is referred to as the \"scale\""
   ]
  },
  {
   "cell_type": "markdown",
   "metadata": {},
   "source": [
    "A univariate normal distribution is one considered in one-dimension and a multivariate is a consideration of univariate normal distributions in higher dimensions. "
   ]
  },
  {
   "cell_type": "code",
   "execution_count": 27,
   "metadata": {},
   "outputs": [
    {
     "data": {
      "text/plain": [
       "[<matplotlib.lines.Line2D at 0x7fcd5d6c50f0>]"
      ]
     },
     "execution_count": 27,
     "metadata": {},
     "output_type": "execute_result"
    },
    {
     "data": {
      "image/png": "[encoded data removed]",
      "text/plain": [
       "<Figure size 432x288 with 1 Axes>"
      ]
     },
     "metadata": {
      "needs_background": "light"
     },
     "output_type": "display_data"
    }
   ],
   "source": [
    "fig, ax = plt.subplots(1, 1)\n",
    "x = np.linspace(norm.ppf(0.01),norm.ppf(0.99), 100)\n",
    "ax.plot(x, norm.pdf(x),'r-', lw=5, alpha=0.6, label='norm pdf')"
   ]
  },
  {
   "cell_type": "markdown",
   "metadata": {},
   "source": [
    "### Bernoulli Distribution"
   ]
  },
  {
   "cell_type": "markdown",
   "metadata": {},
   "source": [
    "Bernoulli distribution is a distribution of discrete variables."
   ]
  },
  {
   "cell_type": "markdown",
   "metadata": {},
   "source": [
    "There are only two possible outcomes.\n",
    "Examples;\n",
    "* Toss of a coin: H / T\n",
    "* A student passes an exams: Yes / No\n",
    "* State of a cancer: Benign / Malignant\n",
    "Probabilities of each event occuring is p and p-1"
   ]
  },
  {
   "cell_type": "markdown",
   "metadata": {},
   "source": [
    "\\begin{equation}\n",
    "  p(x) = \\left \\{\n",
    "  \\begin{aligned}\n",
    "    &\\theta^x(1 - \\theta)^{1 - x} && \\text{for } x \\in \\{0,1\\} \\\\\n",
    "    &0 && \\text{otherwise}\n",
    "  \\end{aligned} \\right.\n",
    "\\end{equation} "
   ]
  },
  {
   "cell_type": "markdown",
   "metadata": {},
   "source": [
    "### Binomial Distribution"
   ]
  },
  {
   "cell_type": "markdown",
   "metadata": {},
   "source": [
    "This distribution involves a series of independent Bernoulli experiments such that the number of trials is of interest."
   ]
  },
  {
   "cell_type": "markdown",
   "metadata": {},
   "source": [
    "Probability of success in each Bernoulli trial is denoted by $p$ and the probability of failure by $q = 1 - p$. Also, the probability that an event occurs x times and in n trials is given by the probability function<br>\n",
    "\\begin{align}\n",
    "f(x) = &P(X = x) ={n \\choose x}p^xq^{n-x} = \\frac{n!}{x!(n-x)!}p^xq^{n-x}\n",
    "\\end{align}\n",
    "Where $x$ is the number of successes in $n$ trials\n",
    "\n",
    "**Eg**. What is the probability of having exactly 4 heads appearing in 9 tosses of a fair coin?<br>\n",
    "_soln_<br>\n",
    "\n",
    "\n",
    "\\begin{align}\n",
    " P(X = 4)&= {9 \\choose 4}\\left( \\frac{1}{2}\\right)^4 \\left(\\frac{1}{2}\\right)^{9-4} \\\\\n",
    " &= \\frac{9!}{4!5!}\\left(\\frac{1}{2}\\right)^4\\left(\\frac{1}{2}\\right)^5\\\\\n",
    " &= \\frac{63}{256}\\\\\n",
    " & = 0.24609375\n",
    "\\end{align}\n"
   ]
  },
  {
   "cell_type": "code",
   "execution_count": 33,
   "metadata": {},
   "outputs": [
    {
     "data": {
      "text/plain": [
       "0.24609375"
      ]
     },
     "execution_count": 33,
     "metadata": {},
     "output_type": "execute_result"
    }
   ],
   "source": [
    "n = 9\n",
    "x = 4\n",
    "p = 0.5\n",
    "q = 1 - p\n",
    "p_x = f(n)/(f(x) * f(n-x)) * np.power(p,x) * np.power(q, n-x)\n",
    "p_x"
   ]
  },
  {
   "cell_type": "markdown",
   "metadata": {},
   "source": [
    "### Mean and Variance\n",
    "Mean $\\mu = np$ <br>\n",
    "Variance = $\\sigma^2 = np(1-p)$ <br>\n",
    "Standard deviation $\\sigma = \\sqrt{np(1 - p)}$\n",
    "\n",
    "**Eg. 2** Find the mean, variance, and standard deviation of the Bernoulli experiment when a fair coin is tossed 100 times.<br>\n",
    "_soln_<br>\n",
    "$\\mu = np = (100)(0.5) = 50$ <br>\n",
    "Variance $(\\sigma^2) = (100)(0.5)(0.5) = 25$ <br>\n",
    "Stddev $(\\sigma) = \\sqrt{(100)(0.5)(0.5)} = \\sqrt{25} = 5$"
   ]
  },
  {
   "cell_type": "code",
   "execution_count": 40,
   "metadata": {},
   "outputs": [
    {
     "name": "stdout",
     "output_type": "stream",
     "text": [
      "Mean:  50.0\n",
      "variance:  25.0\n",
      "Standard Deviation:  5.0\n"
     ]
    }
   ],
   "source": [
    "n = 100\n",
    "p = 0.5\n",
    "q = 1 - p\n",
    "print(\"Mean: \",n*p)\n",
    "print(\"variance: \",n*p*q)\n",
    "print(\"Standard Deviation: \", np.sqrt(n*p*q))"
   ]
  },
  {
   "cell_type": "markdown",
   "metadata": {},
   "source": [
    "### Beta Distribution"
   ]
  },
  {
   "cell_type": "markdown",
   "metadata": {},
   "source": [
    "Beta distribution is a continuous probability distribution over a finite interval of [0,1].<br>\n",
    "Probability density function of the Beta Distribution is given by:\n",
    "\\begin{equation}\n",
    "  X = \\left \\{\n",
    "  \\begin{aligned}\n",
    "    &\\frac{1}{B(\\alpha,\\beta)}x^{\\alpha-1}(1-x)^{\\beta-1}, && \\text{if } 0 < x < 1 \\\\\n",
    "    &0, && \\text{otherwise}\n",
    "  \\end{aligned} \\right.\n",
    "\\end{equation} \n",
    "\n",
    "And \n",
    "\\begin{align}\n",
    "B(\\alpha,\\beta) = \\int_{0}^{1}x^{\\alpha-1}(1-x)^{\\beta-1}dx\n",
    "\\end{align}\n",
    "\n",
    "A random variable X is said to be Beta distributed with parameters ($\\alpha$, $\\beta$) as shown above, for some $\\alpha$ > 0 and $\\beta$ > 0 if, interval is (0,1) for x $\\in$ (0,1)\n",
    "\n",
    "\\begin{align}\n",
    "f_X(x) &= \\frac{\\Gamma(\\alpha + \\beta)}{\\Gamma(\\alpha - 1)\\Gamma(\\beta)}x^{\\alpha - 1}(1-x)^{\\beta-1}\\\\\n",
    "&= \\frac{(\\alpha + \\beta - 1)!}{(\\alpha - 1)!(\\beta - 1)!}x^{\\alpha - 1}(1-x)^{\\beta-1}\n",
    "\\end{align}\n",
    "\n",
    "The distribution is also written as $X \\sim Beta (\\alpha,\\beta)$\n",
    "\n",
    "### Mean and Variance\n",
    "Mean\n",
    "\\begin{align}\n",
    "\\mathbf{E(x)} = \\frac{\\alpha}{\\alpha+\\beta}\n",
    "\\end{align}\n",
    "\n",
    "Variance\n",
    "\\begin{align}\n",
    "\\mathbf{V(x)} = \\frac{\\alpha\\beta}{(\\alpha+\\beta)^2(\\alpha+\\beta+1)}\n",
    "\\end{align}"
   ]
  },
  {
   "cell_type": "markdown",
   "metadata": {},
   "source": [
    "### Gamma Distribution"
   ]
  },
  {
   "cell_type": "markdown",
   "metadata": {
    "cell_style": "center"
   },
   "source": [
    "### Poisson Distribution"
   ]
  },
  {
   "cell_type": "markdown",
   "metadata": {},
   "source": [
    "### Dirichlet Distribution"
   ]
  },
  {
   "cell_type": "markdown",
   "metadata": {},
   "source": [
    "### Student's t-distribution"
   ]
  }
 ],
 "metadata": {
  "kernelspec": {
   "display_name": "Python 3",
   "language": "python",
   "name": "python3"
  },
  "language_info": {
   "codemirror_mode": {
    "name": "ipython",
    "version": 3
   },
   "file_extension": ".py",
   "mimetype": "text/x-python",
   "name": "python",
   "nbconvert_exporter": "python",
   "pygments_lexer": "ipython3",
   "version": "3.6.6"
  },
  "toc": {
   "base_numbering": 1,
   "nav_menu": {},
   "number_sections": true,
   "sideBar": true,
   "skip_h1_title": false,
   "title_cell": "Table of Contents",
   "title_sidebar": "Contents",
   "toc_cell": false,
   "toc_position": {
    "height": "calc(100% - 180px)",
    "left": "10px",
    "top": "150px",
    "width": "165px"
   },
   "toc_section_display": true,
   "toc_window_display": false
  }
 },
 "nbformat": 4,
 "nbformat_minor": 2
}
