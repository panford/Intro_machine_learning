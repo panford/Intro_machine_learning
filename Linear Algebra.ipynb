{
 "cells": [
  {
   "cell_type": "markdown",
   "metadata": {},
   "source": [
    "# Basics of Linear Algebra"
   ]
  },
  {
   "cell_type": "markdown",
   "metadata": {},
   "source": [
    "## 1. Systems of Linear Equations"
   ]
  },
  {
   "cell_type": "markdown",
   "metadata": {},
   "source": [
    "A Linear equation in $x_1, x_2,...,x_N$ can be written as $a_ix_i + a_2x_2+...+a_Nx_N = b$\n",
    "where a and b are real numbers. ie $(a,b \\in \\mathbb{R})$\n",
    "\n",
    "A system of linear equations may have: \n",
    "  1. **No** solution\n",
    "  2. Exactly **one** solution\n",
    "  3. Infinitely **many** solutions\n",
    "The system of linear equations are said to be **consistent** if they have one or infinitely many solutions and **inconsistent** if they have no solution\n",
    "\n",
    "Then also the question about a **consistent** matrix is:<br/>\n",
    "i. Does at least one solution _exist_? <br/>\n",
    "ii. If a solution exists, is it a _unique_(only one) solution? "
   ]
  },
  {
   "cell_type": "markdown",
   "metadata": {},
   "source": [
    "## 2. Matrix Representation"
   ]
  },
  {
   "cell_type": "markdown",
   "metadata": {},
   "source": [
    "Systems of linear equations may be represented in a rectangular array called a $\\mathbb{matrix}$"
   ]
  },
  {
   "cell_type": "markdown",
   "metadata": {},
   "source": [
    "For instance:   \n",
    "    $x_1 - 2x_2 + x_3 = 0$ <br/>\n",
    "    <space>      $2x_2 - 8x_3 = 8$<br/>\n",
    "    $5x_1       - 5x_3 = 10$ <br/>\n",
    "     can be written as:  \\begin{equation}\n",
    "  \\begin{bmatrix}\n",
    "    1 & -2 & 1 \\\\\n",
    "    0 & 2 & -8  \\\\\n",
    "    5 & 0 & -5\n",
    "  \\end{bmatrix}\n",
    "  \\label{eq:aeqn}\n",
    "\\end{equation}\n",
    "\n",
    "   The Augmented matrix is also represented as:  \\begin{equation}\n",
    "   \\begin{bmatrix}\n",
    "    1 & -2 & 1 & 0\\\\\n",
    "    0 & 2 & -8  & 8\\\\\n",
    "    5 & 0 & -5 & 10\n",
    "  \\end{bmatrix}\n",
    "\\end{equation}\n",
    "   "
   ]
  },
  {
   "cell_type": "markdown",
   "metadata": {},
   "source": [
    "We can use Numpy for linear Algebra and Matrix operations"
   ]
  },
  {
   "cell_type": "code",
   "execution_count": 4,
   "metadata": {},
   "outputs": [],
   "source": [
    "import numpy as np"
   ]
  },
  {
   "cell_type": "code",
   "execution_count": 9,
   "metadata": {},
   "outputs": [],
   "source": [
    "A = np.array([[1,-2,1], \n",
    "             [0,2,-8],\n",
    "             [5,0,-5]])"
   ]
  },
  {
   "cell_type": "code",
   "execution_count": 10,
   "metadata": {},
   "outputs": [
    {
     "data": {
      "text/plain": [
       "array([[ 1, -2,  1],\n",
       "       [ 0,  2, -8],\n",
       "       [ 5,  0, -5]])"
      ]
     },
     "execution_count": 10,
     "metadata": {},
     "output_type": "execute_result"
    }
   ],
   "source": [
    "A"
   ]
  },
  {
   "cell_type": "code",
   "execution_count": null,
   "metadata": {},
   "outputs": [],
   "source": [
    "## Do this for the Augmented matrix\n",
    "# A = "
   ]
  },
  {
   "cell_type": "code",
   "execution_count": null,
   "metadata": {},
   "outputs": [],
   "source": [
    "#"
   ]
  }
 ],
 "metadata": {
  "kernelspec": {
   "display_name": "Python 3",
   "language": "python",
   "name": "python3"
  },
  "language_info": {
   "codemirror_mode": {
    "name": "ipython",
    "version": 3
   },
   "file_extension": ".py",
   "mimetype": "text/x-python",
   "name": "python",
   "nbconvert_exporter": "python",
   "pygments_lexer": "ipython3",
   "version": "3.6.6"
  }
 },
 "nbformat": 4,
 "nbformat_minor": 2
}
